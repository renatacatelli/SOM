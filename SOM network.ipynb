{
 "cells": [
  {
   "cell_type": "markdown",
   "metadata": {},
   "source": [
    "# Import Libraries"
   ]
  },
  {
   "cell_type": "code",
   "execution_count": 54,
   "metadata": {},
   "outputs": [],
   "source": [
    "import pandas as pd\n",
    "import numpy as np\n",
    "from sklearn.preprocessing import StandardScaler\n",
    "from sklearn.preprocessing import MinMaxScaler\n",
    "import matplotlib.pyplot as plt\n",
    "import seaborn as sns"
   ]
  },
  {
   "cell_type": "markdown",
   "metadata": {},
   "source": [
    "# EDA"
   ]
  },
  {
   "cell_type": "code",
   "execution_count": 55,
   "metadata": {},
   "outputs": [],
   "source": [
    "df = pd.read_csv(r\"D:\\3. Data Science Projects\\RED SOM\\datasets\\diabetes_health_indicators.csv\")"
   ]
  },
  {
   "cell_type": "code",
   "execution_count": 56,
   "metadata": {},
   "outputs": [
    {
     "data": {
      "text/html": [
       "<div>\n",
       "<style scoped>\n",
       "    .dataframe tbody tr th:only-of-type {\n",
       "        vertical-align: middle;\n",
       "    }\n",
       "\n",
       "    .dataframe tbody tr th {\n",
       "        vertical-align: top;\n",
       "    }\n",
       "\n",
       "    .dataframe thead th {\n",
       "        text-align: right;\n",
       "    }\n",
       "</style>\n",
       "<table border=\"1\" class=\"dataframe\">\n",
       "  <thead>\n",
       "    <tr style=\"text-align: right;\">\n",
       "      <th></th>\n",
       "      <th>Diabetes_012</th>\n",
       "      <th>HighBP</th>\n",
       "      <th>HighChol</th>\n",
       "      <th>CholCheck</th>\n",
       "      <th>BMI</th>\n",
       "      <th>Smoker</th>\n",
       "      <th>Stroke</th>\n",
       "      <th>HeartDiseaseorAttack</th>\n",
       "      <th>PhysActivity</th>\n",
       "      <th>Fruits</th>\n",
       "      <th>...</th>\n",
       "      <th>AnyHealthcare</th>\n",
       "      <th>NoDocbcCost</th>\n",
       "      <th>GenHlth</th>\n",
       "      <th>MentHlth</th>\n",
       "      <th>PhysHlth</th>\n",
       "      <th>DiffWalk</th>\n",
       "      <th>Sex</th>\n",
       "      <th>Age</th>\n",
       "      <th>Education</th>\n",
       "      <th>Income</th>\n",
       "    </tr>\n",
       "  </thead>\n",
       "  <tbody>\n",
       "    <tr>\n",
       "      <th>0</th>\n",
       "      <td>0.0</td>\n",
       "      <td>1.0</td>\n",
       "      <td>1.0</td>\n",
       "      <td>1.0</td>\n",
       "      <td>40.0</td>\n",
       "      <td>1.0</td>\n",
       "      <td>0.0</td>\n",
       "      <td>0.0</td>\n",
       "      <td>0.0</td>\n",
       "      <td>0.0</td>\n",
       "      <td>...</td>\n",
       "      <td>1.0</td>\n",
       "      <td>0.0</td>\n",
       "      <td>5.0</td>\n",
       "      <td>18.0</td>\n",
       "      <td>15.0</td>\n",
       "      <td>1.0</td>\n",
       "      <td>0.0</td>\n",
       "      <td>9.0</td>\n",
       "      <td>4.0</td>\n",
       "      <td>3.0</td>\n",
       "    </tr>\n",
       "    <tr>\n",
       "      <th>1</th>\n",
       "      <td>0.0</td>\n",
       "      <td>0.0</td>\n",
       "      <td>0.0</td>\n",
       "      <td>0.0</td>\n",
       "      <td>25.0</td>\n",
       "      <td>1.0</td>\n",
       "      <td>0.0</td>\n",
       "      <td>0.0</td>\n",
       "      <td>1.0</td>\n",
       "      <td>0.0</td>\n",
       "      <td>...</td>\n",
       "      <td>0.0</td>\n",
       "      <td>1.0</td>\n",
       "      <td>3.0</td>\n",
       "      <td>0.0</td>\n",
       "      <td>0.0</td>\n",
       "      <td>0.0</td>\n",
       "      <td>0.0</td>\n",
       "      <td>7.0</td>\n",
       "      <td>6.0</td>\n",
       "      <td>1.0</td>\n",
       "    </tr>\n",
       "    <tr>\n",
       "      <th>2</th>\n",
       "      <td>0.0</td>\n",
       "      <td>1.0</td>\n",
       "      <td>1.0</td>\n",
       "      <td>1.0</td>\n",
       "      <td>28.0</td>\n",
       "      <td>0.0</td>\n",
       "      <td>0.0</td>\n",
       "      <td>0.0</td>\n",
       "      <td>0.0</td>\n",
       "      <td>1.0</td>\n",
       "      <td>...</td>\n",
       "      <td>1.0</td>\n",
       "      <td>1.0</td>\n",
       "      <td>5.0</td>\n",
       "      <td>30.0</td>\n",
       "      <td>30.0</td>\n",
       "      <td>1.0</td>\n",
       "      <td>0.0</td>\n",
       "      <td>9.0</td>\n",
       "      <td>4.0</td>\n",
       "      <td>8.0</td>\n",
       "    </tr>\n",
       "    <tr>\n",
       "      <th>3</th>\n",
       "      <td>0.0</td>\n",
       "      <td>1.0</td>\n",
       "      <td>0.0</td>\n",
       "      <td>1.0</td>\n",
       "      <td>27.0</td>\n",
       "      <td>0.0</td>\n",
       "      <td>0.0</td>\n",
       "      <td>0.0</td>\n",
       "      <td>1.0</td>\n",
       "      <td>1.0</td>\n",
       "      <td>...</td>\n",
       "      <td>1.0</td>\n",
       "      <td>0.0</td>\n",
       "      <td>2.0</td>\n",
       "      <td>0.0</td>\n",
       "      <td>0.0</td>\n",
       "      <td>0.0</td>\n",
       "      <td>0.0</td>\n",
       "      <td>11.0</td>\n",
       "      <td>3.0</td>\n",
       "      <td>6.0</td>\n",
       "    </tr>\n",
       "    <tr>\n",
       "      <th>4</th>\n",
       "      <td>0.0</td>\n",
       "      <td>1.0</td>\n",
       "      <td>1.0</td>\n",
       "      <td>1.0</td>\n",
       "      <td>24.0</td>\n",
       "      <td>0.0</td>\n",
       "      <td>0.0</td>\n",
       "      <td>0.0</td>\n",
       "      <td>1.0</td>\n",
       "      <td>1.0</td>\n",
       "      <td>...</td>\n",
       "      <td>1.0</td>\n",
       "      <td>0.0</td>\n",
       "      <td>2.0</td>\n",
       "      <td>3.0</td>\n",
       "      <td>0.0</td>\n",
       "      <td>0.0</td>\n",
       "      <td>0.0</td>\n",
       "      <td>11.0</td>\n",
       "      <td>5.0</td>\n",
       "      <td>4.0</td>\n",
       "    </tr>\n",
       "  </tbody>\n",
       "</table>\n",
       "<p>5 rows × 22 columns</p>\n",
       "</div>"
      ],
      "text/plain": [
       "   Diabetes_012  HighBP  HighChol  CholCheck   BMI  Smoker  Stroke  \\\n",
       "0           0.0     1.0       1.0        1.0  40.0     1.0     0.0   \n",
       "1           0.0     0.0       0.0        0.0  25.0     1.0     0.0   \n",
       "2           0.0     1.0       1.0        1.0  28.0     0.0     0.0   \n",
       "3           0.0     1.0       0.0        1.0  27.0     0.0     0.0   \n",
       "4           0.0     1.0       1.0        1.0  24.0     0.0     0.0   \n",
       "\n",
       "   HeartDiseaseorAttack  PhysActivity  Fruits  ...  AnyHealthcare  \\\n",
       "0                   0.0           0.0     0.0  ...            1.0   \n",
       "1                   0.0           1.0     0.0  ...            0.0   \n",
       "2                   0.0           0.0     1.0  ...            1.0   \n",
       "3                   0.0           1.0     1.0  ...            1.0   \n",
       "4                   0.0           1.0     1.0  ...            1.0   \n",
       "\n",
       "   NoDocbcCost  GenHlth  MentHlth  PhysHlth  DiffWalk  Sex   Age  Education  \\\n",
       "0          0.0      5.0      18.0      15.0       1.0  0.0   9.0        4.0   \n",
       "1          1.0      3.0       0.0       0.0       0.0  0.0   7.0        6.0   \n",
       "2          1.0      5.0      30.0      30.0       1.0  0.0   9.0        4.0   \n",
       "3          0.0      2.0       0.0       0.0       0.0  0.0  11.0        3.0   \n",
       "4          0.0      2.0       3.0       0.0       0.0  0.0  11.0        5.0   \n",
       "\n",
       "   Income  \n",
       "0     3.0  \n",
       "1     1.0  \n",
       "2     8.0  \n",
       "3     6.0  \n",
       "4     4.0  \n",
       "\n",
       "[5 rows x 22 columns]"
      ]
     },
     "execution_count": 56,
     "metadata": {},
     "output_type": "execute_result"
    }
   ],
   "source": [
    "df.head()"
   ]
  },
  {
   "cell_type": "code",
   "execution_count": 57,
   "metadata": {},
   "outputs": [
    {
     "data": {
      "text/plain": [
       "Index(['Diabetes_012', 'HighBP', 'HighChol', 'CholCheck', 'BMI', 'Smoker',\n",
       "       'Stroke', 'HeartDiseaseorAttack', 'PhysActivity', 'Fruits', 'Veggies',\n",
       "       'HvyAlcoholConsump', 'AnyHealthcare', 'NoDocbcCost', 'GenHlth',\n",
       "       'MentHlth', 'PhysHlth', 'DiffWalk', 'Sex', 'Age', 'Education',\n",
       "       'Income'],\n",
       "      dtype='object')"
      ]
     },
     "execution_count": 57,
     "metadata": {},
     "output_type": "execute_result"
    }
   ],
   "source": [
    "df.columns"
   ]
  },
  {
   "cell_type": "code",
   "execution_count": 58,
   "metadata": {},
   "outputs": [
    {
     "data": {
      "text/plain": [
       "Diabetes_012            0\n",
       "HighBP                  0\n",
       "HighChol                0\n",
       "CholCheck               0\n",
       "BMI                     0\n",
       "Smoker                  0\n",
       "Stroke                  0\n",
       "HeartDiseaseorAttack    0\n",
       "PhysActivity            0\n",
       "Fruits                  0\n",
       "Veggies                 0\n",
       "HvyAlcoholConsump       0\n",
       "AnyHealthcare           0\n",
       "NoDocbcCost             0\n",
       "GenHlth                 0\n",
       "MentHlth                0\n",
       "PhysHlth                0\n",
       "DiffWalk                0\n",
       "Sex                     0\n",
       "Age                     0\n",
       "Education               0\n",
       "Income                  0\n",
       "dtype: int64"
      ]
     },
     "execution_count": 58,
     "metadata": {},
     "output_type": "execute_result"
    }
   ],
   "source": [
    "df.isnull().sum()"
   ]
  },
  {
   "cell_type": "code",
   "execution_count": 59,
   "metadata": {},
   "outputs": [
    {
     "data": {
      "text/plain": [
       "Diabetes_012            float64\n",
       "HighBP                  float64\n",
       "HighChol                float64\n",
       "CholCheck               float64\n",
       "BMI                     float64\n",
       "Smoker                  float64\n",
       "Stroke                  float64\n",
       "HeartDiseaseorAttack    float64\n",
       "PhysActivity            float64\n",
       "Fruits                  float64\n",
       "Veggies                 float64\n",
       "HvyAlcoholConsump       float64\n",
       "AnyHealthcare           float64\n",
       "NoDocbcCost             float64\n",
       "GenHlth                 float64\n",
       "MentHlth                float64\n",
       "PhysHlth                float64\n",
       "DiffWalk                float64\n",
       "Sex                     float64\n",
       "Age                     float64\n",
       "Education               float64\n",
       "Income                  float64\n",
       "dtype: object"
      ]
     },
     "execution_count": 59,
     "metadata": {},
     "output_type": "execute_result"
    }
   ],
   "source": [
    "df.dtypes"
   ]
  },
  {
   "cell_type": "code",
   "execution_count": 60,
   "metadata": {},
   "outputs": [
    {
     "name": "stdout",
     "output_type": "stream",
     "text": [
      "Diabetes_012            0.698160\n",
      "HighBP                  0.494934\n",
      "HighChol                0.494210\n",
      "CholCheck               0.189571\n",
      "BMI                     6.608694\n",
      "Smoker                  0.496761\n",
      "Stroke                  0.197294\n",
      "HeartDiseaseorAttack    0.292087\n",
      "PhysActivity            0.429169\n",
      "Fruits                  0.481639\n",
      "Veggies                 0.391175\n",
      "HvyAlcoholConsump       0.230302\n",
      "AnyHealthcare           0.215759\n",
      "NoDocbcCost             0.277654\n",
      "GenHlth                 1.068477\n",
      "MentHlth                7.412847\n",
      "PhysHlth                8.717951\n",
      "DiffWalk                0.374066\n",
      "Sex                     0.496429\n",
      "Age                     3.054220\n",
      "Education               0.985774\n",
      "Income                  2.071148\n",
      "dtype: float64\n"
     ]
    }
   ],
   "source": [
    "# Check data deviation to decide if normalization is needed\n",
    "std_dev = df.std()\n",
    "print(std_dev)"
   ]
  },
  {
   "cell_type": "code",
   "execution_count": 61,
   "metadata": {},
   "outputs": [
    {
     "name": "stdout",
     "output_type": "stream",
     "text": [
      "Diabetes_012             2.0\n",
      "HighBP                   1.0\n",
      "HighChol                 1.0\n",
      "CholCheck                1.0\n",
      "BMI                     86.0\n",
      "Smoker                   1.0\n",
      "Stroke                   1.0\n",
      "HeartDiseaseorAttack     1.0\n",
      "PhysActivity             1.0\n",
      "Fruits                   1.0\n",
      "Veggies                  1.0\n",
      "HvyAlcoholConsump        1.0\n",
      "AnyHealthcare            1.0\n",
      "NoDocbcCost              1.0\n",
      "GenHlth                  4.0\n",
      "MentHlth                30.0\n",
      "PhysHlth                30.0\n",
      "DiffWalk                 1.0\n",
      "Sex                      1.0\n",
      "Age                     12.0\n",
      "Education                5.0\n",
      "Income                   7.0\n",
      "dtype: float64\n"
     ]
    }
   ],
   "source": [
    "# Check max and min values to decide if normalization is needed\n",
    "range_val = df.max() - df.min()\n",
    "print(range_val)"
   ]
  },
  {
   "cell_type": "code",
   "execution_count": 62,
   "metadata": {},
   "outputs": [],
   "source": [
    "# Check for mean and standard deviation before normalization to see if it is done correctly\n",
    "mean_before = df.mean()\n",
    "std_before = df.std()"
   ]
  },
  {
   "cell_type": "code",
   "execution_count": 63,
   "metadata": {},
   "outputs": [
    {
     "data": {
      "image/png": "[encoded data removed]",
      "text/plain": [
       "<Figure size 1200x600 with 2 Axes>"
      ]
     },
     "metadata": {},
     "output_type": "display_data"
    }
   ],
   "source": [
    "plt.figure(figsize=(12,6))\n",
    "plt.subplot(2, 2, 1)\n",
    "sns.histplot(data=df, x='Diabetes_012', kde=True)\n",
    "plt.title('Histogram before normalization')\n",
    "\n",
    "plt.subplot(2, 2, 3)\n",
    "sns.boxplot(data=df)\n",
    "plt.title('Boxplot before normalization')\n",
    "\n",
    "plt.tight_layout()\n",
    "plt.show()"
   ]
  },
  {
   "cell_type": "code",
   "execution_count": 64,
   "metadata": {},
   "outputs": [],
   "source": [
    "# Create object to normalize\n",
    "scaler = MinMaxScaler()"
   ]
  },
  {
   "cell_type": "code",
   "execution_count": 65,
   "metadata": {},
   "outputs": [],
   "source": [
    "# Normalize df\n",
    "df_normalized = pd.DataFrame(scaler.fit_transform(df), columns=df.columns)"
   ]
  },
  {
   "cell_type": "code",
   "execution_count": 66,
   "metadata": {},
   "outputs": [],
   "source": [
    "# Calculate mean and std after normalization\n",
    "mean_after = df_normalized.mean()\n",
    "std_after = df_normalized.std()"
   ]
  },
  {
   "cell_type": "code",
   "execution_count": 67,
   "metadata": {},
   "outputs": [
    {
     "name": "stdout",
     "output_type": "stream",
     "text": [
      "Statistics before normalization\n",
      "Diabetes_012             0.296921\n",
      "HighBP                   0.429001\n",
      "HighChol                 0.424121\n",
      "CholCheck                0.962670\n",
      "BMI                     28.382364\n",
      "Smoker                   0.443169\n",
      "Stroke                   0.040571\n",
      "HeartDiseaseorAttack     0.094186\n",
      "PhysActivity             0.756544\n",
      "Fruits                   0.634256\n",
      "Veggies                  0.811420\n",
      "HvyAlcoholConsump        0.056197\n",
      "AnyHealthcare            0.951053\n",
      "NoDocbcCost              0.084177\n",
      "GenHlth                  2.511392\n",
      "MentHlth                 3.184772\n",
      "PhysHlth                 4.242081\n",
      "DiffWalk                 0.168224\n",
      "Sex                      0.440342\n",
      "Age                      8.032119\n",
      "Education                5.050434\n",
      "Income                   6.053875\n",
      "dtype: float64\n",
      "Diabetes_012            0.698160\n",
      "HighBP                  0.494934\n",
      "HighChol                0.494210\n",
      "CholCheck               0.189571\n",
      "BMI                     6.608694\n",
      "Smoker                  0.496761\n",
      "Stroke                  0.197294\n",
      "HeartDiseaseorAttack    0.292087\n",
      "PhysActivity            0.429169\n",
      "Fruits                  0.481639\n",
      "Veggies                 0.391175\n",
      "HvyAlcoholConsump       0.230302\n",
      "AnyHealthcare           0.215759\n",
      "NoDocbcCost             0.277654\n",
      "GenHlth                 1.068477\n",
      "MentHlth                7.412847\n",
      "PhysHlth                8.717951\n",
      "DiffWalk                0.374066\n",
      "Sex                     0.496429\n",
      "Age                     3.054220\n",
      "Education               0.985774\n",
      "Income                  2.071148\n",
      "dtype: float64\n",
      "\n",
      "Statistics after normalization\n",
      "Diabetes_012            0.148461\n",
      "HighBP                  0.429001\n",
      "HighChol                0.424121\n",
      "CholCheck               0.962670\n",
      "BMI                     0.190493\n",
      "Smoker                  0.443169\n",
      "Stroke                  0.040571\n",
      "HeartDiseaseorAttack    0.094186\n",
      "PhysActivity            0.756544\n",
      "Fruits                  0.634256\n",
      "Veggies                 0.811420\n",
      "HvyAlcoholConsump       0.056197\n",
      "AnyHealthcare           0.951053\n",
      "NoDocbcCost             0.084177\n",
      "GenHlth                 0.377848\n",
      "MentHlth                0.106159\n",
      "PhysHlth                0.141403\n",
      "DiffWalk                0.168224\n",
      "Sex                     0.440342\n",
      "Age                     0.586010\n",
      "Education               0.810087\n",
      "Income                  0.721982\n",
      "dtype: float64\n",
      "Diabetes_012            0.349080\n",
      "HighBP                  0.494934\n",
      "HighChol                0.494210\n",
      "CholCheck               0.189571\n",
      "BMI                     0.076845\n",
      "Smoker                  0.496761\n",
      "Stroke                  0.197294\n",
      "HeartDiseaseorAttack    0.292087\n",
      "PhysActivity            0.429169\n",
      "Fruits                  0.481639\n",
      "Veggies                 0.391175\n",
      "HvyAlcoholConsump       0.230302\n",
      "AnyHealthcare           0.215759\n",
      "NoDocbcCost             0.277654\n",
      "GenHlth                 0.267119\n",
      "MentHlth                0.247095\n",
      "PhysHlth                0.290598\n",
      "DiffWalk                0.374066\n",
      "Sex                     0.496429\n",
      "Age                     0.254518\n",
      "Education               0.197155\n",
      "Income                  0.295878\n",
      "dtype: float64\n"
     ]
    }
   ],
   "source": [
    "# Show statistics before and after normalization\n",
    "print(\"Statistics before normalization\")\n",
    "print(mean_before)\n",
    "print(std_before)\n",
    "print(\"\\nStatistics after normalization\")\n",
    "print(mean_after)\n",
    "print(std_after)"
   ]
  },
  {
   "cell_type": "code",
   "execution_count": 68,
   "metadata": {},
   "outputs": [
    {
     "data": {
      "image/png": "[encoded data removed]",
      "text/plain": [
       "<Figure size 640x480 with 2 Axes>"
      ]
     },
     "metadata": {},
     "output_type": "display_data"
    }
   ],
   "source": [
    "plt.subplot(2, 2, 2)\n",
    "sns.histplot(data=df_normalized, x='Diabetes_012', kde=True)\n",
    "plt.title('Histogram after normalization')\n",
    "\n",
    "plt.subplot(2, 2, 4)\n",
    "sns.boxplot(data=df_normalized)\n",
    "plt.title('Boxplot after normalization')\n",
    "\n",
    "plt.tight_layout()\n",
    "plt.show()"
   ]
  }
 ],
 "metadata": {
  "kernelspec": {
   "display_name": "Python 3",
   "language": "python",
   "name": "python3"
  },
  "language_info": {
   "codemirror_mode": {
    "name": "ipython",
    "version": 3
   },
   "file_extension": ".py",
   "mimetype": "text/x-python",
   "name": "python",
   "nbconvert_exporter": "python",
   "pygments_lexer": "ipython3",
   "version": "3.12.2"
  }
 },
 "nbformat": 4,
 "nbformat_minor": 2
}
